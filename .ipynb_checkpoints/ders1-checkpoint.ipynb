{
 "cells": [
  {
   "cell_type": "markdown",
   "id": "eccda090-aa10-4784-a028-249b07f33108",
   "metadata": {},
   "source": [
    "## UYGULAMA 1a"
   ]
  },
  {
   "cell_type": "markdown",
   "id": "e1fab9f4-69b8-4ff4-8fbc-cfe39b93f89d",
   "metadata": {},
   "source": [
    "## SORU 3\n",
    "\n",
    "Pandas kütüphanesinin metodu olan DataFrame() ile yukarıda verilen tabloyu oluşturunuz ve\n",
    "tablo hakkında betimleyici istatiksel bilgiler veriniz (20p)."
   ]
  },
  {
   "cell_type": "code",
   "execution_count": 8,
   "id": "c6d23f6e-55db-4c5c-8be0-9d61f9ddd090",
   "metadata": {},
   "outputs": [],
   "source": [
    "import pandas as pd\n",
    "\n",
    "data = {\n",
    "    \"Gün\": [\"G1\",\"G2\",\"G3\",\"G4\",\"G5\",\"G6\",\"G7\",\"G8\",\"G9\",\"G10\",\"G11\",\"G12\",\"G13\",\"G14\"],\n",
    "    \"Hava Durumu\": [\"Güneşli\",\"Güneşli\",\"Kapalı\",\"Yağmurlu\",\"Yağmurlu\",\"Yağmurlu\",\"Kapalı\",\"Güneşli\",\"Güneşli\",\"Yağmurlu\",\"Güneşli\",\"Kapalı\",\"Kapalı\",\"Yağmurlu\"],\n",
    "    \"Sıcaklık\": [\"Sıcak\", \"Sıcak\", \"Sıcak\", \"Ilıman\", \"Soğuk\", \"Soğuk\", \"Soğuk\", \"Ilıman\", \"Soğuk\", \"Ilıman\", \"Ilıman\", \"Ilıman\", \"Sıcak\", \"Ilıman\"],\n",
    "    \"Nem\": [\"Yüksek\", \"Yüksek\", \"Yüksek\", \"Yüksek\", \"Normal\", \"Normal\", \"Normal\",  \"Yüksek\", \"Normal\", \"Normal\", \"Normal\", \"Yüksek\", \"Normal\", \"Yüksek\"],\n",
    "    \"Yağış\": [\"Seyrek\", \"Aşırı\", \"Seyrek\", \"Seyrek\", \"Seyrek\", \"Aşırı\", \"Aşırı\", \"Seyrek\", \"Seyrek\", \"Seyrek\", \"Aşırı\", \"Aşırı\", \"Seyrek\", \"Aşırı\"],\n",
    "    \"Oyun\": [\"Yok\", \"Yok\", \"Var\", \"Var\", \"Var\", \"Yok\", \"Var\", \"Var\", \"Yok\", \"Var\", \"Var\", \"Yok\", \"Var\", \"Yok\"]\n",
    "}\n",
    "\n",
    "df = pd.DataFrame(data)"
   ]
  },
  {
   "cell_type": "code",
   "execution_count": 9,
   "id": "e0e13f47-44b5-4016-8818-a7862b523e1a",
   "metadata": {},
   "outputs": [
    {
     "data": {
      "text/html": [
       "<div>\n",
       "<style scoped>\n",
       "    .dataframe tbody tr th:only-of-type {\n",
       "        vertical-align: middle;\n",
       "    }\n",
       "\n",
       "    .dataframe tbody tr th {\n",
       "        vertical-align: top;\n",
       "    }\n",
       "\n",
       "    .dataframe thead th {\n",
       "        text-align: right;\n",
       "    }\n",
       "</style>\n",
       "<table border=\"1\" class=\"dataframe\">\n",
       "  <thead>\n",
       "    <tr style=\"text-align: right;\">\n",
       "      <th></th>\n",
       "      <th>Gün</th>\n",
       "      <th>Hava Durumu</th>\n",
       "      <th>Sıcaklık</th>\n",
       "      <th>Nem</th>\n",
       "      <th>Yağış</th>\n",
       "      <th>Oyun</th>\n",
       "    </tr>\n",
       "  </thead>\n",
       "  <tbody>\n",
       "    <tr>\n",
       "      <th>0</th>\n",
       "      <td>G1</td>\n",
       "      <td>Güneşli</td>\n",
       "      <td>Sıcak</td>\n",
       "      <td>Yüksek</td>\n",
       "      <td>Seyrek</td>\n",
       "      <td>Yok</td>\n",
       "    </tr>\n",
       "    <tr>\n",
       "      <th>1</th>\n",
       "      <td>G2</td>\n",
       "      <td>Güneşli</td>\n",
       "      <td>Sıcak</td>\n",
       "      <td>Yüksek</td>\n",
       "      <td>Aşırı</td>\n",
       "      <td>Yok</td>\n",
       "    </tr>\n",
       "    <tr>\n",
       "      <th>2</th>\n",
       "      <td>G3</td>\n",
       "      <td>Kapalı</td>\n",
       "      <td>Sıcak</td>\n",
       "      <td>Yüksek</td>\n",
       "      <td>Seyrek</td>\n",
       "      <td>Var</td>\n",
       "    </tr>\n",
       "    <tr>\n",
       "      <th>3</th>\n",
       "      <td>G4</td>\n",
       "      <td>Yağmurlu</td>\n",
       "      <td>Ilıman</td>\n",
       "      <td>Yüksek</td>\n",
       "      <td>Seyrek</td>\n",
       "      <td>Var</td>\n",
       "    </tr>\n",
       "    <tr>\n",
       "      <th>4</th>\n",
       "      <td>G5</td>\n",
       "      <td>Yağmurlu</td>\n",
       "      <td>Soğuk</td>\n",
       "      <td>Normal</td>\n",
       "      <td>Seyrek</td>\n",
       "      <td>Var</td>\n",
       "    </tr>\n",
       "  </tbody>\n",
       "</table>\n",
       "</div>"
      ],
      "text/plain": [
       "  Gün Hava Durumu Sıcaklık     Nem   Yağış Oyun\n",
       "0  G1     Güneşli    Sıcak  Yüksek  Seyrek  Yok\n",
       "1  G2     Güneşli    Sıcak  Yüksek   Aşırı  Yok\n",
       "2  G3      Kapalı    Sıcak  Yüksek  Seyrek  Var\n",
       "3  G4    Yağmurlu   Ilıman  Yüksek  Seyrek  Var\n",
       "4  G5    Yağmurlu    Soğuk  Normal  Seyrek  Var"
      ]
     },
     "execution_count": 9,
     "metadata": {},
     "output_type": "execute_result"
    }
   ],
   "source": [
    "df.head()"
   ]
  },
  {
   "cell_type": "code",
   "execution_count": null,
   "id": "bb92a077-25f4-472b-aa2d-294d516a7f70",
   "metadata": {},
   "outputs": [],
   "source": []
  },
  {
   "cell_type": "markdown",
   "id": "d1f9f0fb-6f75-4ced-b651-7458f6e47954",
   "metadata": {},
   "source": [
    "## SORU 2\n",
    "Pandas kütüphanesi aracılığıyla tablodan “Sıcaklık” ve “Nem” değerlerini siliniz (20p)."
   ]
  },
  {
   "cell_type": "code",
   "execution_count": 11,
   "id": "12b45548-2ad0-4c87-8d36-b394cfe25fb4",
   "metadata": {},
   "outputs": [],
   "source": [
    "del df[\"Sıcaklık\"]\n",
    "del df[\"Nem\"]"
   ]
  },
  {
   "cell_type": "code",
   "execution_count": 12,
   "id": "f4bd0f07-bf1c-4bda-a4f7-289a2a0deb4d",
   "metadata": {},
   "outputs": [
    {
     "data": {
      "text/html": [
       "<div>\n",
       "<style scoped>\n",
       "    .dataframe tbody tr th:only-of-type {\n",
       "        vertical-align: middle;\n",
       "    }\n",
       "\n",
       "    .dataframe tbody tr th {\n",
       "        vertical-align: top;\n",
       "    }\n",
       "\n",
       "    .dataframe thead th {\n",
       "        text-align: right;\n",
       "    }\n",
       "</style>\n",
       "<table border=\"1\" class=\"dataframe\">\n",
       "  <thead>\n",
       "    <tr style=\"text-align: right;\">\n",
       "      <th></th>\n",
       "      <th>Gün</th>\n",
       "      <th>Hava Durumu</th>\n",
       "      <th>Yağış</th>\n",
       "      <th>Oyun</th>\n",
       "    </tr>\n",
       "  </thead>\n",
       "  <tbody>\n",
       "    <tr>\n",
       "      <th>0</th>\n",
       "      <td>G1</td>\n",
       "      <td>Güneşli</td>\n",
       "      <td>Seyrek</td>\n",
       "      <td>Yok</td>\n",
       "    </tr>\n",
       "    <tr>\n",
       "      <th>1</th>\n",
       "      <td>G2</td>\n",
       "      <td>Güneşli</td>\n",
       "      <td>Aşırı</td>\n",
       "      <td>Yok</td>\n",
       "    </tr>\n",
       "    <tr>\n",
       "      <th>2</th>\n",
       "      <td>G3</td>\n",
       "      <td>Kapalı</td>\n",
       "      <td>Seyrek</td>\n",
       "      <td>Var</td>\n",
       "    </tr>\n",
       "    <tr>\n",
       "      <th>3</th>\n",
       "      <td>G4</td>\n",
       "      <td>Yağmurlu</td>\n",
       "      <td>Seyrek</td>\n",
       "      <td>Var</td>\n",
       "    </tr>\n",
       "    <tr>\n",
       "      <th>4</th>\n",
       "      <td>G5</td>\n",
       "      <td>Yağmurlu</td>\n",
       "      <td>Seyrek</td>\n",
       "      <td>Var</td>\n",
       "    </tr>\n",
       "  </tbody>\n",
       "</table>\n",
       "</div>"
      ],
      "text/plain": [
       "  Gün Hava Durumu   Yağış Oyun\n",
       "0  G1     Güneşli  Seyrek  Yok\n",
       "1  G2     Güneşli   Aşırı  Yok\n",
       "2  G3      Kapalı  Seyrek  Var\n",
       "3  G4    Yağmurlu  Seyrek  Var\n",
       "4  G5    Yağmurlu  Seyrek  Var"
      ]
     },
     "execution_count": 12,
     "metadata": {},
     "output_type": "execute_result"
    }
   ],
   "source": [
    "df.head()"
   ]
  },
  {
   "cell_type": "markdown",
   "id": "e687c901-85ea-4c77-9a4a-83fba603d2b5",
   "metadata": {},
   "source": [
    "## SORU 1\n",
    ".csv formatında bu tabloyu oluşturup lokalde bu tabloyu Pandas kütüphanesini kullanarak açınız\n",
    "(20p)."
   ]
  },
  {
   "cell_type": "code",
   "execution_count": 13,
   "id": "bc48428b-0ccb-415e-8e4f-b2f7403f95d7",
   "metadata": {},
   "outputs": [],
   "source": [
    "new_df = pd.DataFrame(\n",
    "    {\n",
    "        \"Gün\": [\"G1\",\"G2\",\"G3\",\"G4\",\"G5\",\"G6\",\"G7\",\"G8\",\"G9\",\"G10\",\"G11\",\"G12\",\"G13\",\"G14\"],\n",
    "        \"Hava Durumu\": [\"Güneşli\",\"Güneşli\",\"Kapalı\",\"Yağmurlu\",\"Yağmurlu\",\"Yağmurlu\",\"Kapalı\",\"Güneşli\",\"Güneşli\",\"Yağmurlu\",\"Güneşli\",\"Kapalı\",\"Kapalı\",\"Yağmurlu\"],\n",
    "        \"Sıcaklık\": [\"Sıcak\", \"Sıcak\", \"Sıcak\", \"Ilıman\", \"Soğuk\", \"Soğuk\", \"Soğuk\", \"Ilıman\", \"Soğuk\", \"Ilıman\", \"Ilıman\", \"Ilıman\", \"Sıcak\", \"Ilıman\"],\n",
    "        \"Nem\": [\"Yüksek\", \"Yüksek\", \"Yüksek\", \"Yüksek\", \"Normal\", \"Normal\", \"Normal\",  \"Yüksek\", \"Normal\", \"Normal\", \"Normal\", \"Yüksek\", \"Normal\", \"Yüksek\"],\n",
    "        \"Yağış\": [\"Seyrek\", \"Aşırı\", \"Seyrek\", \"Seyrek\", \"Seyrek\", \"Aşırı\", \"Aşırı\", \"Seyrek\", \"Seyrek\", \"Seyrek\", \"Aşırı\", \"Aşırı\", \"Seyrek\", \"Aşırı\"],\n",
    "        \"Oyun\": [\"Yok\", \"Yok\", \"Var\", \"Var\", \"Var\", \"Yok\", \"Var\", \"Var\", \"Yok\", \"Var\", \"Var\", \"Yok\", \"Var\", \"Yok\"]\n",
    "    }\n",
    ")"
   ]
  },
  {
   "cell_type": "code",
   "execution_count": 14,
   "id": "6e13df0a-abe7-489d-b1fe-01d914b77ee4",
   "metadata": {},
   "outputs": [],
   "source": [
    "new_df.to_csv(\"hafta1_dataset.csv\")"
   ]
  },
  {
   "cell_type": "code",
   "execution_count": 22,
   "id": "36615c98-1782-45ed-b008-e376381757b3",
   "metadata": {},
   "outputs": [],
   "source": [
    "df = pd.read_csv(\"hafta1_dataset.csv\", index_col=0)"
   ]
  },
  {
   "cell_type": "code",
   "execution_count": null,
   "id": "f5185b1c-d421-4c95-999c-b8babc978a0d",
   "metadata": {},
   "outputs": [],
   "source": []
  },
  {
   "cell_type": "code",
   "execution_count": 24,
   "id": "7ddf98e6-ced0-4892-b4a3-a5aca97d27d6",
   "metadata": {},
   "outputs": [
    {
     "data": {
      "text/html": [
       "<div>\n",
       "<style scoped>\n",
       "    .dataframe tbody tr th:only-of-type {\n",
       "        vertical-align: middle;\n",
       "    }\n",
       "\n",
       "    .dataframe tbody tr th {\n",
       "        vertical-align: top;\n",
       "    }\n",
       "\n",
       "    .dataframe thead th {\n",
       "        text-align: right;\n",
       "    }\n",
       "</style>\n",
       "<table border=\"1\" class=\"dataframe\">\n",
       "  <thead>\n",
       "    <tr style=\"text-align: right;\">\n",
       "      <th></th>\n",
       "      <th>Gün</th>\n",
       "      <th>Hava Durumu</th>\n",
       "      <th>Sıcaklık</th>\n",
       "      <th>Nem</th>\n",
       "      <th>Yağış</th>\n",
       "      <th>Oyun</th>\n",
       "    </tr>\n",
       "  </thead>\n",
       "  <tbody>\n",
       "    <tr>\n",
       "      <th>0</th>\n",
       "      <td>G1</td>\n",
       "      <td>Güneşli</td>\n",
       "      <td>Sıcak</td>\n",
       "      <td>Yüksek</td>\n",
       "      <td>Seyrek</td>\n",
       "      <td>Yok</td>\n",
       "    </tr>\n",
       "    <tr>\n",
       "      <th>1</th>\n",
       "      <td>G2</td>\n",
       "      <td>Güneşli</td>\n",
       "      <td>Sıcak</td>\n",
       "      <td>Yüksek</td>\n",
       "      <td>Aşırı</td>\n",
       "      <td>Yok</td>\n",
       "    </tr>\n",
       "    <tr>\n",
       "      <th>2</th>\n",
       "      <td>G3</td>\n",
       "      <td>Kapalı</td>\n",
       "      <td>Sıcak</td>\n",
       "      <td>Yüksek</td>\n",
       "      <td>Seyrek</td>\n",
       "      <td>Var</td>\n",
       "    </tr>\n",
       "    <tr>\n",
       "      <th>3</th>\n",
       "      <td>G4</td>\n",
       "      <td>Yağmurlu</td>\n",
       "      <td>Ilıman</td>\n",
       "      <td>Yüksek</td>\n",
       "      <td>Seyrek</td>\n",
       "      <td>Var</td>\n",
       "    </tr>\n",
       "    <tr>\n",
       "      <th>4</th>\n",
       "      <td>G5</td>\n",
       "      <td>Yağmurlu</td>\n",
       "      <td>Soğuk</td>\n",
       "      <td>Normal</td>\n",
       "      <td>Seyrek</td>\n",
       "      <td>Var</td>\n",
       "    </tr>\n",
       "  </tbody>\n",
       "</table>\n",
       "</div>"
      ],
      "text/plain": [
       "  Gün Hava Durumu Sıcaklık     Nem   Yağış Oyun\n",
       "0  G1     Güneşli    Sıcak  Yüksek  Seyrek  Yok\n",
       "1  G2     Güneşli    Sıcak  Yüksek   Aşırı  Yok\n",
       "2  G3      Kapalı    Sıcak  Yüksek  Seyrek  Var\n",
       "3  G4    Yağmurlu   Ilıman  Yüksek  Seyrek  Var\n",
       "4  G5    Yağmurlu    Soğuk  Normal  Seyrek  Var"
      ]
     },
     "execution_count": 24,
     "metadata": {},
     "output_type": "execute_result"
    }
   ],
   "source": [
    "df.head()"
   ]
  },
  {
   "cell_type": "code",
   "execution_count": null,
   "id": "fe2752c4-2ddf-431a-8ec2-395304f45494",
   "metadata": {},
   "outputs": [],
   "source": []
  },
  {
   "cell_type": "code",
   "execution_count": 25,
   "id": "315d2efc-081f-4579-b40a-9fa82ceb0cbe",
   "metadata": {},
   "outputs": [
    {
     "data": {
      "text/html": [
       "<div>\n",
       "<style scoped>\n",
       "    .dataframe tbody tr th:only-of-type {\n",
       "        vertical-align: middle;\n",
       "    }\n",
       "\n",
       "    .dataframe tbody tr th {\n",
       "        vertical-align: top;\n",
       "    }\n",
       "\n",
       "    .dataframe thead th {\n",
       "        text-align: right;\n",
       "    }\n",
       "</style>\n",
       "<table border=\"1\" class=\"dataframe\">\n",
       "  <thead>\n",
       "    <tr style=\"text-align: right;\">\n",
       "      <th></th>\n",
       "      <th>Gün</th>\n",
       "      <th>Hava Durumu</th>\n",
       "      <th>Sıcaklık</th>\n",
       "      <th>Nem</th>\n",
       "      <th>Yağış</th>\n",
       "      <th>Oyun</th>\n",
       "    </tr>\n",
       "  </thead>\n",
       "  <tbody>\n",
       "    <tr>\n",
       "      <th>count</th>\n",
       "      <td>14</td>\n",
       "      <td>14</td>\n",
       "      <td>14</td>\n",
       "      <td>14</td>\n",
       "      <td>14</td>\n",
       "      <td>14</td>\n",
       "    </tr>\n",
       "    <tr>\n",
       "      <th>unique</th>\n",
       "      <td>14</td>\n",
       "      <td>3</td>\n",
       "      <td>3</td>\n",
       "      <td>2</td>\n",
       "      <td>2</td>\n",
       "      <td>2</td>\n",
       "    </tr>\n",
       "    <tr>\n",
       "      <th>top</th>\n",
       "      <td>G1</td>\n",
       "      <td>Güneşli</td>\n",
       "      <td>Ilıman</td>\n",
       "      <td>Yüksek</td>\n",
       "      <td>Seyrek</td>\n",
       "      <td>Var</td>\n",
       "    </tr>\n",
       "    <tr>\n",
       "      <th>freq</th>\n",
       "      <td>1</td>\n",
       "      <td>5</td>\n",
       "      <td>6</td>\n",
       "      <td>7</td>\n",
       "      <td>8</td>\n",
       "      <td>8</td>\n",
       "    </tr>\n",
       "  </tbody>\n",
       "</table>\n",
       "</div>"
      ],
      "text/plain": [
       "       Gün Hava Durumu Sıcaklık     Nem   Yağış Oyun\n",
       "count   14          14       14      14      14   14\n",
       "unique  14           3        3       2       2    2\n",
       "top     G1     Güneşli   Ilıman  Yüksek  Seyrek  Var\n",
       "freq     1           5        6       7       8    8"
      ]
     },
     "execution_count": 25,
     "metadata": {},
     "output_type": "execute_result"
    }
   ],
   "source": [
    "df.describe()"
   ]
  },
  {
   "cell_type": "code",
   "execution_count": null,
   "id": "81b14840-311d-43cc-9d7c-bd3db770a98f",
   "metadata": {},
   "outputs": [],
   "source": []
  },
  {
   "cell_type": "code",
   "execution_count": null,
   "id": "17ec299f-8eca-4229-aead-dc82e7859dd3",
   "metadata": {},
   "outputs": [],
   "source": []
  },
  {
   "cell_type": "code",
   "execution_count": null,
   "id": "749d466a-d76e-47f7-a4de-667a640de04f",
   "metadata": {},
   "outputs": [],
   "source": []
  },
  {
   "cell_type": "markdown",
   "id": "9626dd27-49e7-40c4-899e-de6197fb7243",
   "metadata": {},
   "source": [
    "## Soru 4\n",
    "(3,4) boyutunda bir dizi oluşturunuz. Oluşturduğunuz bu dizinin boyutunu (6,2) olacak şekilde\n",
    "değiştiriniz (20p)."
   ]
  },
  {
   "cell_type": "code",
   "execution_count": 73,
   "id": "217acc89-e2eb-4fc4-b9ba-45cc31d219cc",
   "metadata": {},
   "outputs": [],
   "source": [
    "import numpy as np"
   ]
  },
  {
   "cell_type": "code",
   "execution_count": 76,
   "id": "a3a8f316-6ccc-4f70-8ba5-dc367b3d8fdb",
   "metadata": {},
   "outputs": [
    {
     "data": {
      "text/plain": [
       "array([[0., 0., 0., 0.],\n",
       "       [0., 0., 0., 0.],\n",
       "       [0., 0., 0., 0.]])"
      ]
     },
     "execution_count": 76,
     "metadata": {},
     "output_type": "execute_result"
    }
   ],
   "source": [
    "arr"
   ]
  },
  {
   "cell_type": "code",
   "execution_count": 75,
   "id": "3d227715-e004-47e4-80e0-4cf610632563",
   "metadata": {},
   "outputs": [],
   "source": [
    "arr = np.zeros([3,4])"
   ]
  },
  {
   "cell_type": "code",
   "execution_count": 77,
   "id": "3286180b-298a-41ae-afa7-003824547e0c",
   "metadata": {},
   "outputs": [],
   "source": [
    "arr = arr.reshape([6,2])"
   ]
  },
  {
   "cell_type": "code",
   "execution_count": 78,
   "id": "3cfe064c-c565-4211-969f-5d6574ca0ceb",
   "metadata": {},
   "outputs": [
    {
     "data": {
      "text/plain": [
       "array([[0., 0.],\n",
       "       [0., 0.],\n",
       "       [0., 0.],\n",
       "       [0., 0.],\n",
       "       [0., 0.],\n",
       "       [0., 0.]])"
      ]
     },
     "execution_count": 78,
     "metadata": {},
     "output_type": "execute_result"
    }
   ],
   "source": [
    "arr"
   ]
  },
  {
   "cell_type": "code",
   "execution_count": null,
   "id": "56ae22e6-cb04-4c18-a7c0-29cf2ae9a2e0",
   "metadata": {},
   "outputs": [],
   "source": []
  },
  {
   "cell_type": "markdown",
   "id": "3e166dc1-4414-4642-9eea-3bb684707a4e",
   "metadata": {},
   "source": [
    "## Soru 5\n",
    "İki tane (3,3) boyutunda rastgele sayılardan meydana bir dizi oluşturunuz. Oluşturulan bu diziyi\n",
    "hem yatay hem de dikey olacak şekilde istif (stack) ediniz"
   ]
  },
  {
   "cell_type": "code",
   "execution_count": 44,
   "id": "ce41b340-fcd0-438f-9b98-bb3e8f90dcda",
   "metadata": {},
   "outputs": [],
   "source": [
    "arr1 = np.random.rand(3,3)"
   ]
  },
  {
   "cell_type": "code",
   "execution_count": 45,
   "id": "70bfa7a5-1285-4829-959d-9b79b399a55b",
   "metadata": {},
   "outputs": [
    {
     "data": {
      "text/plain": [
       "array([[0.84016407, 0.4041683 , 0.58705464],\n",
       "       [0.69568615, 0.06290459, 0.66016806],\n",
       "       [0.68113942, 0.77272731, 0.020291  ]])"
      ]
     },
     "execution_count": 45,
     "metadata": {},
     "output_type": "execute_result"
    }
   ],
   "source": [
    "arr1"
   ]
  },
  {
   "cell_type": "code",
   "execution_count": 46,
   "id": "31d427ad-f47e-4c13-b403-2e23c72b0020",
   "metadata": {},
   "outputs": [],
   "source": [
    "arr2 = np.random.rand(3,3)"
   ]
  },
  {
   "cell_type": "code",
   "execution_count": 47,
   "id": "aa568251-ae18-4d84-908f-7ac9812d98cd",
   "metadata": {},
   "outputs": [
    {
     "data": {
      "text/plain": [
       "array([[0.07118264, 0.39405739, 0.02747511],\n",
       "       [0.8557767 , 0.51447354, 0.76291094],\n",
       "       [0.48439184, 0.58367979, 0.16406114]])"
      ]
     },
     "execution_count": 47,
     "metadata": {},
     "output_type": "execute_result"
    }
   ],
   "source": [
    "arr2"
   ]
  },
  {
   "cell_type": "code",
   "execution_count": 49,
   "id": "47acef08-154f-4af7-ba59-c6ebe7b7d933",
   "metadata": {},
   "outputs": [],
   "source": [
    "horizontal_stack = np.hstack([arr1, arr2])"
   ]
  },
  {
   "cell_type": "code",
   "execution_count": 50,
   "id": "efed020f-c606-4515-85cd-e9ee2649ff79",
   "metadata": {},
   "outputs": [
    {
     "data": {
      "text/plain": [
       "array([[0.84016407, 0.4041683 , 0.58705464, 0.07118264, 0.39405739,\n",
       "        0.02747511],\n",
       "       [0.69568615, 0.06290459, 0.66016806, 0.8557767 , 0.51447354,\n",
       "        0.76291094],\n",
       "       [0.68113942, 0.77272731, 0.020291  , 0.48439184, 0.58367979,\n",
       "        0.16406114]])"
      ]
     },
     "execution_count": 50,
     "metadata": {},
     "output_type": "execute_result"
    }
   ],
   "source": [
    "horizontal_stack"
   ]
  },
  {
   "cell_type": "code",
   "execution_count": 51,
   "id": "1aa2c2ad-6f1e-409d-a771-57c2e788574a",
   "metadata": {},
   "outputs": [
    {
     "data": {
      "text/plain": [
       "(3, 6)"
      ]
     },
     "execution_count": 51,
     "metadata": {},
     "output_type": "execute_result"
    }
   ],
   "source": [
    "horizontal_stack.shape"
   ]
  },
  {
   "cell_type": "code",
   "execution_count": 53,
   "id": "b1bf6c27-d410-4826-96d9-65469652cf92",
   "metadata": {},
   "outputs": [],
   "source": [
    "vertical_stack = np.vstack([arr1, arr2])"
   ]
  },
  {
   "cell_type": "code",
   "execution_count": 54,
   "id": "eb060d0f-ea13-446d-aaf0-1fe678a8f709",
   "metadata": {},
   "outputs": [
    {
     "data": {
      "text/plain": [
       "array([[0.84016407, 0.4041683 , 0.58705464],\n",
       "       [0.69568615, 0.06290459, 0.66016806],\n",
       "       [0.68113942, 0.77272731, 0.020291  ],\n",
       "       [0.07118264, 0.39405739, 0.02747511],\n",
       "       [0.8557767 , 0.51447354, 0.76291094],\n",
       "       [0.48439184, 0.58367979, 0.16406114]])"
      ]
     },
     "execution_count": 54,
     "metadata": {},
     "output_type": "execute_result"
    }
   ],
   "source": [
    "vertical_stack"
   ]
  },
  {
   "cell_type": "code",
   "execution_count": 55,
   "id": "2124be5c-24df-45f7-9636-7e4e60902159",
   "metadata": {},
   "outputs": [
    {
     "data": {
      "text/plain": [
       "(6, 3)"
      ]
     },
     "execution_count": 55,
     "metadata": {},
     "output_type": "execute_result"
    }
   ],
   "source": [
    "vertical_stack.shape"
   ]
  },
  {
   "cell_type": "markdown",
   "id": "077d7e58-3d71-4b54-8dd2-547a733a0035",
   "metadata": {},
   "source": [
    "## Uygulama 1 B\n",
    "\n",
    "## Soru 1\n",
    "Kullanıcıdan 3 adet integer türünde değer alınız. Almış olduğunuz bu değerler bir üçgenin\n",
    "açılarını ifade edecektir. Bu açı değerlerine göre bu üçgenin dik, geniş ya da dar üçgen olup\n",
    "olmadığını belirleyen programı yazınız (20p)."
   ]
  },
  {
   "cell_type": "code",
   "execution_count": 58,
   "id": "72f18aa2-4a63-49ac-867a-6353356e322c",
   "metadata": {},
   "outputs": [
    {
     "name": "stdin",
     "output_type": "stream",
     "text": [
      "Birinci açıyı girin:  90\n",
      "İkinci açıyı girin:  45\n",
      "Üçüncü açıyı girin:  45\n"
     ]
    },
    {
     "name": "stdout",
     "output_type": "stream",
     "text": [
      "Bu üçgen bir dik üçgendir.\n"
     ]
    }
   ],
   "source": [
    "\n",
    "\n",
    "a = int(input(\"Birinci açıyı girin: \"))\n",
    "b = int(input(\"İkinci açıyı girin: \"))\n",
    "c = int(input(\"Üçüncü açıyı girin: \"))\n",
    "\n",
    "toplam =  a + b + c\n",
    "\n",
    "if toplam != 180:\n",
    "    print(\"Geçersiz üçgen açıları. Üçgenin açıları toplamı 180 olmalıdır.\")\n",
    "else:\n",
    "    if a == 90 or b == 90 or c == 90:\n",
    "        print(\"Bu üçgen bir dik üçgendir.\")\n",
    "    elif a > 90 or b > 90 or c > 90:\n",
    "        print(\"Bu üçgen bir geniş üçgendir.\")\n",
    "    else:\n",
    "        print(\"Bu üçgen bir dar üçgendir.\")\n"
   ]
  },
  {
   "cell_type": "code",
   "execution_count": null,
   "id": "b485ed55-4abf-4ed0-bcd4-09446563a5a4",
   "metadata": {},
   "outputs": [],
   "source": []
  },
  {
   "cell_type": "code",
   "execution_count": null,
   "id": "d2187a40-b8d7-4c64-a169-326da6c6d6cd",
   "metadata": {},
   "outputs": [],
   "source": []
  },
  {
   "cell_type": "markdown",
   "id": "f3c3985f-6ea8-4231-b165-cdd13866482e",
   "metadata": {},
   "source": [
    "## Soru 2 \n",
    "İçinde uzaylı olan bir oyun geliştirdiğinizi düşünün. uzaylı_rengi isminde bir değişken oluşturun\n",
    "ve bu değişken string türünde değerler alsın. Bu değişkene kırmızı, yeşil ya da sarı\n",
    "değerlerinden birini klavyeden veriniz. Eğer uzaylının rengi yeşilse “Tebrikler, yeşil uzaylıya ateş\n",
    "ettiğiniz için 5 puan kazandınız” şeklinde bir çıktı veriniz. Eğer rengi yeşil değilse \"T ebrikler, yeşil\n",
    "olmayan uzaylıya ateş ettiğiniz için 10 puan ka zandınız \" şeklinde çıktı veriniz. Senaryoya ait\n",
    "programı yazınız (20p)."
   ]
  },
  {
   "cell_type": "code",
   "execution_count": 61,
   "id": "e8b2b83f-5dcb-434f-b091-3fb638c9dba3",
   "metadata": {},
   "outputs": [
    {
     "name": "stdin",
     "output_type": "stream",
     "text": [
      "Uzaylı rengini giriniz yeşil\n"
     ]
    },
    {
     "name": "stdout",
     "output_type": "stream",
     "text": [
      "tebrikler yeşil uzaylıya ateş ettiğiniz için 5 puan kazandınız\n"
     ]
    }
   ],
   "source": [
    "uzaylı_rengi = str(input(\"Uzaylı rengini giriniz\"))\n",
    "\n",
    "\n",
    "if uzaylı_rengi == \"yeşil\":\n",
    "    print(\"tebrikler yeşil uzaylıya ateş ettiğiniz için 5 puan kazandınız\")\n",
    "elif uzaylı_rengi in (\"sarı\", \"kırmızı\"):\n",
    "    print(\"tebrikler yeşil olmayan uzaylıya ateş ettiğiniz için 10 puan kazandınız.\")\n",
    "else:\n",
    "    print(\"Hatalı uzaylı rengi\")"
   ]
  },
  {
   "cell_type": "markdown",
   "id": "64a3b438-6d82-4c26-b3ab-4e4663f41d4b",
   "metadata": {},
   "source": [
    "# Soru 3\n",
    "Bir önceki sorudaki örneğe dayanarak if-elif-else yapılarını kullanarak aşağıdaki soruları\n",
    "cevaplayınız (20p).\n",
    "a) Eğer uzaylı rengi yeşil ise \"Tebrikler, yeşil uzaylıya ateş ettiğiniz için 5 puan kazandınız\"\n",
    ",\n",
    "b) Eğer uzaylı rengi sarı ise \"Tebrikler, sarı uzaylıya ateş ettiğiniz için 10 puan kazandınız\"\n",
    ",\n",
    "c) Eğer uzaylı rengi kırmız ise \"Tebrikler, kırmızı uzaylıya ateş ettiğiniz için 1 5 puan kazandınız\"\n",
    "şeklinde çıktı veren programı yazınız."
   ]
  },
  {
   "cell_type": "code",
   "execution_count": 64,
   "id": "7d76aa9e-dbb2-478d-b2d0-de59edc45619",
   "metadata": {},
   "outputs": [
    {
     "name": "stdin",
     "output_type": "stream",
     "text": [
      "Uzaylı rengini giriniz sarı\n"
     ]
    },
    {
     "name": "stdout",
     "output_type": "stream",
     "text": [
      "Tebrikler, sarı uzaylıya ateş ettiğiniz için 10 puan kazandınız\n"
     ]
    }
   ],
   "source": [
    "uzaylı_rengi = str(input(\"Uzaylı rengini giriniz\"))\n",
    "\n",
    "\n",
    "if uzaylı_rengi == \"yeşil\":\n",
    "    print(\"Tebrikler, yeşil uzaylıya ateş ettiğiniz için 5 puan kazandınız\")\n",
    "elif uzaylı_rengi == \"sarı\":\n",
    "    print(\"Tebrikler, sarı uzaylıya ateş ettiğiniz için 10 puan kazandınız\")\n",
    "elif uzaylı_rengi == \"kırmızı\":\n",
    "    print(\"Tebrikler, kırmızı uzaylıya ateş ettiğiniz için 15 puan kazandınız\")\n",
    "else:\n",
    "    print(\"Hatalı uzaylı rengi\")"
   ]
  },
  {
   "cell_type": "markdown",
   "id": "b897bd68-0a74-48a1-b0a3-255549445731",
   "metadata": {},
   "source": [
    "## Soru 4\n",
    "\n",
    "if-elif-else yapılarını kullanarak bir insanın yaşam evreleri ile ilgili programı oluşturunuz. i nt\n",
    "türünde, yaş isminde bir değişken oluşturup, bu değişken için gerekli olan değeri kullanıcıdan\n",
    "isteyiniz (20p).\n",
    "a) Eğer bir insanın yaşı 2 yaşından küçük ise, \"Bu kişi bebektir \",\n",
    "b) Eğer bir insanın yaşı 2 ile 4 arasındaysa (2 dâhil) \"Bu kişi y eni yürümeye başlayan çocuktur \",\n",
    "c) Eğer bir insanın yaşı 4 ile 13 arasındaysa (4 dâhil) \"Bu kişi çocuktur\"\n",
    ",\n",
    "d) Eğer bir insanın yaşı 13 ile 20 arasındaysa (13 dâhil) \"Bu kişi ergendir\"\n",
    ",\n",
    "e) Eğer bir insanın yaşı 20 ile 65 arasındaysa (20 dâhil) \"Bu kişi yetişkindir \",\n",
    "f) Eğer bir insanın yaşı 65 ve üstü ise (65 dâhil) \"Bu kişi yaşlıdır \" şeklinde çıktı veriniz."
   ]
  },
  {
   "cell_type": "code",
   "execution_count": 69,
   "id": "87279fc9-20e6-4d6a-b337-2f73fd813812",
   "metadata": {},
   "outputs": [
    {
     "name": "stdin",
     "output_type": "stream",
     "text": [
      "Yaşınızı giriniz 65\n"
     ]
    },
    {
     "name": "stdout",
     "output_type": "stream",
     "text": [
      "Bu kişi yaşlıdır\n"
     ]
    }
   ],
   "source": [
    "age = int(input(\"Yaşınızı giriniz\"))\n",
    "\n",
    "if age < 2:\n",
    "    print(\"Bu kişi bebektir\")\n",
    "elif 2 <= age < 4:\n",
    "    print(\"Bu kişi yeni yürümeye başlayan çocuktur\")\n",
    "elif 4 <= age <13:\n",
    "    print(\"Bu kişi çocuktur\")\n",
    "elif 13 <= age < 20:\n",
    "    print(\"Bu kişi ergendir\")\n",
    "elif 20 <= age < 65:\n",
    "    print(\"Bu kişi yetişkindir\")\n",
    "elif  age >= 65:\n",
    "    print(\"Bu kişi yaşlıdır\")"
   ]
  },
  {
   "cell_type": "markdown",
   "id": "4a1cd43e-0e32-4ca2-9bd5-9c230a7678eb",
   "metadata": {},
   "source": [
    "## Soru 5\n",
    "Favori meyvelerinizin olduğu bir liste oluşturunuz ve bu listede 5 adet meyveniz bulunsun.\n",
    "Listenin adı favori_meyveler şeklinde tanımlansın. i f-else yapısını kullanarak örnekte verilen\n",
    "meyvelerin favori listenizde olup olmadığını kontrol ediniz. Örnek meyveler; elma, armut,\n",
    "karpuz, kavun, muz, portakal, çilek, vişne, kiraz ve mandalina (20p)."
   ]
  },
  {
   "cell_type": "code",
   "execution_count": 70,
   "id": "e2cd3090-a329-4838-88bf-a7f4c603de55",
   "metadata": {},
   "outputs": [
    {
     "name": "stdout",
     "output_type": "stream",
     "text": [
      "elma favori listenizde bulunmaktadır.\n",
      "armut favori listenizde bulunmaktadır.\n",
      "karpuz favori listenizde bulunmaktadır.\n",
      "kavun favori listenizde bulunmaktadır.\n",
      "muz favori listenizde bulunmaktadır.\n",
      "portakal favori listenizde bulunmamaktadır.\n",
      "çilek favori listenizde bulunmamaktadır.\n",
      "vişne favori listenizde bulunmamaktadır.\n",
      "kiraz favori listenizde bulunmamaktadır.\n",
      "mandalina favori listenizde bulunmamaktadır.\n"
     ]
    }
   ],
   "source": [
    "favori_meyveler = [\"elma\", \"armut\", \"karpuz\", \"kavun\", \"muz\"]\n",
    "\n",
    "ornek_meyveler = [\"elma\", \"armut\", \"karpuz\", \"kavun\", \"muz\", \"portakal\", \"çilek\", \"vişne\", \"kiraz\", \"mandalina\"]\n",
    "\n",
    "for meyve in ornek_meyveler:\n",
    "    if meyve in favori_meyveler:\n",
    "        print(f\"{meyve} favori listenizde bulunmaktadır.\")\n",
    "    else:\n",
    "        print(f\"{meyve} favori listenizde bulunmamaktadır.\")\n"
   ]
  },
  {
   "cell_type": "code",
   "execution_count": null,
   "id": "08b52906-620e-4a24-8d14-e37c2c74276f",
   "metadata": {},
   "outputs": [],
   "source": []
  }
 ],
 "metadata": {
  "kernelspec": {
   "display_name": "Python 3 (ipykernel)",
   "language": "python",
   "name": "python3"
  },
  "language_info": {
   "codemirror_mode": {
    "name": "ipython",
    "version": 3
   },
   "file_extension": ".py",
   "mimetype": "text/x-python",
   "name": "python",
   "nbconvert_exporter": "python",
   "pygments_lexer": "ipython3",
   "version": "3.12.9"
  }
 },
 "nbformat": 4,
 "nbformat_minor": 5
}
