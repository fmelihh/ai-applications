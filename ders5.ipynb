{
 "cells": [
  {
   "cell_type": "code",
   "id": "initial_id",
   "metadata": {
    "collapsed": true,
    "ExecuteTime": {
     "end_time": "2025-10-24T05:22:12.513958Z",
     "start_time": "2025-10-24T05:22:10.024219Z"
    }
   },
   "source": "!uv add experta",
   "outputs": [
    {
     "name": "stdout",
     "output_type": "stream",
     "text": [
      "\u001B[2K\u001B[2mResolved \u001B[1m151 packages\u001B[0m \u001B[2min 1.90s\u001B[0m\u001B[0m                                       \u001B[0m\r\n",
      "\u001B[2K\u001B[2mPrepared \u001B[1m3 packages\u001B[0m \u001B[2min 385ms\u001B[0m\u001B[0m                                             \r\n",
      "\u001B[2K\u001B[2mInstalled \u001B[1m3 packages\u001B[0m \u001B[2min 1ms\u001B[0m\u001B[0m                                 \u001B[0m\r\n",
      " \u001B[32m+\u001B[39m \u001B[1mexperta\u001B[0m\u001B[2m==1.9.4\u001B[0m\r\n",
      " \u001B[32m+\u001B[39m \u001B[1mfrozendict\u001B[0m\u001B[2m==1.2\u001B[0m\r\n",
      " \u001B[32m+\u001B[39m \u001B[1mschema\u001B[0m\u001B[2m==0.6.7\u001B[0m\r\n"
     ]
    }
   ],
   "execution_count": 1
  },
  {
   "metadata": {
    "ExecuteTime": {
     "end_time": "2025-10-24T05:28:45.660740Z",
     "start_time": "2025-10-24T05:28:45.637273Z"
    }
   },
   "cell_type": "code",
   "source": [
    "\n",
    "import collections.abc\n",
    "collections.Mapping = collections.abc.Mapping\n",
    "from experta import *\n"
   ],
   "id": "dd6d38f822e436b3",
   "outputs": [],
   "execution_count": 4
  },
  {
   "metadata": {
    "ExecuteTime": {
     "end_time": "2025-10-24T05:54:49.783103Z",
     "start_time": "2025-10-24T05:54:49.776921Z"
    }
   },
   "cell_type": "code",
   "source": [
    "\n",
    "class DentalExpert(KnowledgeEngine):\n",
    "    \"\"\"\n",
    "    Diş sağlığı sorunları için basit bir uzman sistem.\n",
    "    \"\"\"\n",
    "    def __init__(self):\n",
    "        super().__init__()\n",
    "        self.recommendations = []\n",
    "\n",
    "    def add_recommendation(self, message):\n",
    "        \"\"\"\n",
    "        Listede yoksa yeni bir öneri ekler ve ekrana basar.\n",
    "        \"\"\"\n",
    "        if message not in self.recommendations:\n",
    "            self.recommendations.append(message)\n",
    "            print(f\"ÖNERİ: {message}\")\n",
    "\n",
    "    # KURAL 5: Eğer yeni diş çıkarken morarma görünüyorsa, diş hekimine başvur.\n",
    "    @Rule(Fact(symptom=\"morarma\", context=\"yeni_dis_cikmasi\"))\n",
    "    def kural_5_dis_cikarken_morarma(self):\n",
    "        self.add_recommendation(\"Yeni diş çıkarken morarma için diş hekimine başvurun.\")\n",
    "\n",
    "    # KURAL 6: Eğer dişte ağrı yapmayan çürük varsa, dolgu yaptır.\n",
    "    @Rule(Fact(symptom=\"çürük\", pain=False))\n",
    "    def kural_6_agri_yapmayan_cürük(self):\n",
    "        self.add_recommendation(\"Ağrı yapmayan çürük için dolgu yaptırın.\")\n",
    "\n",
    "    # KURAL 2: Eğer diş fırçalarken uzun süreli diş eti kanaması olursa, dişeti çekilmesi vardır ve diş hekimine başvur.\n",
    "    @Rule(Fact(symptom=\"dis eti kanamasi\", duration=\"uzun_sureli\", context=\"fircalarken\"))\n",
    "    def kural_2_dis_fircalarken_uzun_sureli_dis_eti_kanamasi(self):\n",
    "        self.add_recommendation(\"Dişeti çekilmesi şüphesi. Diş hekimine başvurun.\")\n"
   ],
   "id": "dff38e6214c61548",
   "outputs": [],
   "execution_count": 35
  },
  {
   "metadata": {
    "ExecuteTime": {
     "end_time": "2025-10-24T05:54:50.012212Z",
     "start_time": "2025-10-24T05:54:50.007386Z"
    }
   },
   "cell_type": "code",
   "source": [
    "\n",
    "# --- SİSTEMİ TEST ETME ---\n",
    "\n",
    "def run_test(facts):\n",
    "    \"\"\"\n",
    "    Verilen olgularla uzman sistemi çalıştıran yardımcı bir fonksiyon.\n",
    "    \"\"\"\n",
    "    engine = DentalExpert()\n",
    "    engine.reset()\n",
    "    for fact in facts:\n",
    "        engine.declare(fact)\n",
    "    engine.run()\n",
    "\n",
    "    if not engine.recommendations:\n",
    "        print(\"Belirtilerinizle eşleşen bir öneri bulunamadı.\")\n",
    "    print(\"-\" * 30)"
   ],
   "id": "6fff697262855244",
   "outputs": [],
   "execution_count": 36
  },
  {
   "metadata": {
    "ExecuteTime": {
     "end_time": "2025-10-24T05:54:50.256906Z",
     "start_time": "2025-10-24T05:54:50.252093Z"
    }
   },
   "cell_type": "code",
   "source": [
    "print(\"SENARYO 5: Yiyeceklerden renk değişimi\")\n",
    "facts_5 = [\n",
    "    Fact(symptom=\"morarma\", context=\"yeni_dis_cikmasi\")\n",
    "]\n",
    "run_test(facts_5)"
   ],
   "id": "4a69958187354011",
   "outputs": [
    {
     "name": "stdout",
     "output_type": "stream",
     "text": [
      "SENARYO 5: Yiyeceklerden renk değişimi\n",
      "ÖNERİ: Yeni diş çıkarken morarma için diş hekimine başvurun.\n",
      "------------------------------\n"
     ]
    }
   ],
   "execution_count": 37
  },
  {
   "metadata": {
    "ExecuteTime": {
     "end_time": "2025-10-24T05:54:50.612241Z",
     "start_time": "2025-10-24T05:54:50.608513Z"
    }
   },
   "cell_type": "code",
   "source": [
    "print(\"SENARYO 6: Ağrı yapmayan çürük\")\n",
    "facts_6 = [\n",
    "    Fact(symptom=\"çürük\", pain=False)\n",
    "]\n",
    "run_test(facts_6)"
   ],
   "id": "225799c60ec85224",
   "outputs": [
    {
     "name": "stdout",
     "output_type": "stream",
     "text": [
      "SENARYO 6: Ağrı yapmayan çürük\n",
      "ÖNERİ: Ağrı yapmayan çürük için dolgu yaptırın.\n",
      "------------------------------\n"
     ]
    }
   ],
   "execution_count": 38
  },
  {
   "metadata": {
    "ExecuteTime": {
     "end_time": "2025-10-24T05:54:50.905686Z",
     "start_time": "2025-10-24T05:54:50.901863Z"
    }
   },
   "cell_type": "code",
   "source": [
    "print(\"SENARYO 2: Eğer diş fırçalarken uzun süreli diş eti kanaması olursa, dişeti çekilmesi vardır ve diş hekimine başvur.\")\n",
    "facts_2 = [\n",
    "    Fact(\n",
    "        symptom=\"dis eti kanamasi\",\n",
    "        context=\"fircalarken\",\n",
    "        duration=\"uzun_sureli\")\n",
    "]\n",
    "run_test(facts_2)"
   ],
   "id": "b81ae3b17fcb633d",
   "outputs": [
    {
     "name": "stdout",
     "output_type": "stream",
     "text": [
      "SENARYO 2: Eğer diş fırçalarken uzun süreli diş eti kanaması olursa, dişeti çekilmesi vardır ve diş hekimine başvur.\n",
      "ÖNERİ: Dişeti çekilmesi şüphesi. Diş hekimine başvurun.\n",
      "------------------------------\n"
     ]
    }
   ],
   "execution_count": 39
  },
  {
   "metadata": {
    "ExecuteTime": {
     "end_time": "2025-10-24T05:37:13.490861Z",
     "start_time": "2025-10-24T05:37:13.489635Z"
    }
   },
   "cell_type": "code",
   "source": "",
   "id": "e4a6ac8492196d8d",
   "outputs": [],
   "execution_count": null
  },
  {
   "metadata": {},
   "cell_type": "code",
   "outputs": [],
   "execution_count": null,
   "source": "",
   "id": "f8cf1027c3f4a1b"
  }
 ],
 "metadata": {
  "kernelspec": {
   "display_name": "Python 3",
   "language": "python",
   "name": "python3"
  },
  "language_info": {
   "codemirror_mode": {
    "name": "ipython",
    "version": 2
   },
   "file_extension": ".py",
   "mimetype": "text/x-python",
   "name": "python",
   "nbconvert_exporter": "python",
   "pygments_lexer": "ipython2",
   "version": "2.7.6"
  }
 },
 "nbformat": 4,
 "nbformat_minor": 5
}
